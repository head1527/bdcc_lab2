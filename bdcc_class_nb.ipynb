{
 "cells": [
  {
   "cell_type": "code",
   "execution_count": 1,
   "id": "68447980",
   "metadata": {
    "execution": {
     "iopub.execute_input": "2022-03-01T01:30:15.630468Z",
     "iopub.status.busy": "2022-03-01T01:30:15.630233Z",
     "iopub.status.idle": "2022-03-01T01:30:42.285560Z",
     "shell.execute_reply": "2022-03-01T01:30:42.284914Z",
     "shell.execute_reply.started": "2022-03-01T01:30:15.630444Z"
    },
    "tags": []
   },
   "outputs": [
    {
     "data": {
      "application/vnd.jupyter.widget-view+json": {
       "model_id": "c45e319480194ae1984ce1ba7fe2d295",
       "version_major": 2,
       "version_minor": 0
      },
      "text/plain": [
       "VBox()"
      ]
     },
     "metadata": {},
     "output_type": "display_data"
    },
    {
     "name": "stdout",
     "output_type": "stream",
     "text": [
      "Starting Spark application\n"
     ]
    },
    {
     "data": {
      "text/html": [
       "<table>\n",
       "<tr><th>ID</th><th>YARN Application ID</th><th>Kind</th><th>State</th><th>Spark UI</th><th>Driver log</th><th>Current session?</th></tr><tr><td>4</td><td>application_1646191796205_0006</td><td>pyspark</td><td>idle</td><td><a target=\"_blank\" href=\"http://ip-172-31-42-152.ec2.internal:20888/proxy/application_1646191796205_0006/\" class=\"emr-proxy-link\" emr-resource=\"j-2AMTG5ZRU9T4B\n",
       "\" application-id=\"application_1646191796205_0006\">Link</a></td><td><a target=\"_blank\" href=\"http://ip-172-31-46-117.ec2.internal:8042/node/containerlogs/container_1646191796205_0006_01_000001/livy\" >Link</a></td><td>✔</td></tr></table>"
      ],
      "text/plain": [
       "<IPython.core.display.HTML object>"
      ]
     },
     "metadata": {},
     "output_type": "display_data"
    },
    {
     "data": {
      "application/vnd.jupyter.widget-view+json": {
       "model_id": "",
       "version_major": 2,
       "version_minor": 0
      },
      "text/plain": [
       "FloatProgress(value=0.0, bar_style='info', description='Progress:', layout=Layout(height='25px', width='50%'),…"
      ]
     },
     "metadata": {},
     "output_type": "display_data"
    },
    {
     "name": "stdout",
     "output_type": "stream",
     "text": [
      "SparkSession available as 'spark'.\n"
     ]
    },
    {
     "data": {
      "application/vnd.jupyter.widget-view+json": {
       "model_id": "",
       "version_major": 2,
       "version_minor": 0
      },
      "text/plain": [
       "FloatProgress(value=0.0, bar_style='info', description='Progress:', layout=Layout(height='25px', width='50%'),…"
      ]
     },
     "metadata": {},
     "output_type": "display_data"
    },
    {
     "name": "stdout",
     "output_type": "stream",
     "text": [
      "<SparkContext master=yarn appName=livy-session-4>"
     ]
    }
   ],
   "source": [
    "sc"
   ]
  },
  {
   "cell_type": "code",
   "execution_count": 2,
   "id": "a8c4ddb5",
   "metadata": {
    "execution": {
     "iopub.execute_input": "2022-03-01T01:36:52.659469Z",
     "iopub.status.busy": "2022-03-01T01:36:52.659221Z",
     "iopub.status.idle": "2022-03-01T01:36:52.724472Z",
     "shell.execute_reply": "2022-03-01T01:36:52.723824Z",
     "shell.execute_reply.started": "2022-03-01T01:36:52.659444Z"
    },
    "tags": []
   },
   "outputs": [
    {
     "data": {
      "application/vnd.jupyter.widget-view+json": {
       "model_id": "5e7ce43ab95f4416ac36e18a6a19d6b9",
       "version_major": 2,
       "version_minor": 0
      },
      "text/plain": [
       "VBox()"
      ]
     },
     "metadata": {},
     "output_type": "display_data"
    },
    {
     "data": {
      "application/vnd.jupyter.widget-view+json": {
       "model_id": "",
       "version_major": 2,
       "version_minor": 0
      },
      "text/plain": [
       "FloatProgress(value=0.0, bar_style='info', description='Progress:', layout=Layout(height='25px', width='50%'),…"
      ]
     },
     "metadata": {},
     "output_type": "display_data"
    },
    {
     "name": "stdout",
     "output_type": "stream",
     "text": [
      "<pyspark.sql.session.SparkSession object at 0x7f604baa2650>"
     ]
    }
   ],
   "source": [
    "spark"
   ]
  },
  {
   "cell_type": "code",
   "execution_count": 3,
   "id": "598b5b0c-0212-48fd-80a8-b0a4de8abf9b",
   "metadata": {
    "execution": {
     "iopub.execute_input": "2022-03-01T01:36:54.291217Z",
     "iopub.status.busy": "2022-03-01T01:36:54.290993Z",
     "iopub.status.idle": "2022-03-01T01:36:54.354712Z",
     "shell.execute_reply": "2022-03-01T01:36:54.354160Z",
     "shell.execute_reply.started": "2022-03-01T01:36:54.291193Z"
    },
    "tags": []
   },
   "outputs": [
    {
     "data": {
      "application/vnd.jupyter.widget-view+json": {
       "model_id": "afbb93cfb48b4ec8a73388576b990a8e",
       "version_major": 2,
       "version_minor": 0
      },
      "text/plain": [
       "VBox()"
      ]
     },
     "metadata": {},
     "output_type": "display_data"
    },
    {
     "data": {
      "application/vnd.jupyter.widget-view+json": {
       "model_id": "",
       "version_major": 2,
       "version_minor": 0
      },
      "text/plain": [
       "FloatProgress(value=0.0, bar_style='info', description='Progress:', layout=Layout(height='25px', width='50%'),…"
      ]
     },
     "metadata": {},
     "output_type": "display_data"
    }
   ],
   "source": [
    "# sc.list_packages()"
   ]
  },
  {
   "cell_type": "code",
   "execution_count": 4,
   "id": "fa0ca8cc-1912-41c2-bd9b-52a12c12b199",
   "metadata": {
    "execution": {
     "iopub.execute_input": "2022-03-01T01:24:10.477255Z",
     "iopub.status.busy": "2022-03-01T01:24:10.477024Z",
     "iopub.status.idle": "2022-03-01T01:24:10.536567Z",
     "shell.execute_reply": "2022-03-01T01:24:10.535912Z",
     "shell.execute_reply.started": "2022-03-01T01:24:10.477232Z"
    },
    "tags": []
   },
   "outputs": [
    {
     "data": {
      "application/vnd.jupyter.widget-view+json": {
       "model_id": "a7353f92e5a64bae92063828c74ce35a",
       "version_major": 2,
       "version_minor": 0
      },
      "text/plain": [
       "VBox()"
      ]
     },
     "metadata": {},
     "output_type": "display_data"
    },
    {
     "data": {
      "application/vnd.jupyter.widget-view+json": {
       "model_id": "",
       "version_major": 2,
       "version_minor": 0
      },
      "text/plain": [
       "FloatProgress(value=0.0, bar_style='info', description='Progress:', layout=Layout(height='25px', width='50%'),…"
      ]
     },
     "metadata": {},
     "output_type": "display_data"
    }
   ],
   "source": [
    "# sc.install_pypi_package(\"Cython\")\n",
    "# sc.install_pypi_package(\"pandas\")\n",
    "# sc.install_pypi_package(\"matplotlib\")"
   ]
  },
  {
   "cell_type": "markdown",
   "id": "1a1f0ce2",
   "metadata": {},
   "source": [
    "## File Selection Criteria\n",
    "\n",
    "Data from 2019 to 2021 - Timestamp starts with 1 and ends with either 2 or 7."
   ]
  },
  {
   "cell_type": "code",
   "execution_count": 5,
   "id": "c43ba24d",
   "metadata": {},
   "outputs": [
    {
     "data": {
      "application/vnd.jupyter.widget-view+json": {
       "model_id": "ed7aa602099f4a0380fefd36d0053dc0",
       "version_major": 2,
       "version_minor": 0
      },
      "text/plain": [
       "VBox()"
      ]
     },
     "metadata": {},
     "output_type": "display_data"
    },
    {
     "data": {
      "application/vnd.jupyter.widget-view+json": {
       "model_id": "",
       "version_major": 2,
       "version_minor": 0
      },
      "text/plain": [
       "FloatProgress(value=0.0, bar_style='info', description='Progress:', layout=Layout(height='25px', width='50%'),…"
      ]
     },
     "metadata": {},
     "output_type": "display_data"
    }
   ],
   "source": [
    "# f = !aws s3 ls --human-readable --recursive \\\n",
    "# s3://openaq-fetches/realtime/ | grep '20[12][901]-[0-9][0-9]-[0-3][0-9]' | grep '1*5.ndjson'\n",
    "    \n",
    "# size = sum(list(map(lambda i : float(i.split()[2]) if i.split()[3] == \n",
    "#                     'MiB' else float(i.split()[2])/1000,f))) /1000\n",
    "\n",
    "# print(f'Raw Data Size {size :.2f} GB' )"
   ]
  },
  {
   "cell_type": "code",
   "execution_count": 6,
   "id": "76656abf",
   "metadata": {
    "execution": {
     "iopub.execute_input": "2022-02-28T03:28:56.712307Z",
     "iopub.status.busy": "2022-02-28T03:28:56.712076Z",
     "iopub.status.idle": "2022-02-28T03:28:56.785452Z",
     "shell.execute_reply": "2022-02-28T03:28:56.784745Z",
     "shell.execute_reply.started": "2022-02-28T03:28:56.712281Z"
    },
    "tags": []
   },
   "outputs": [
    {
     "data": {
      "application/vnd.jupyter.widget-view+json": {
       "model_id": "3439200994bd4b54803f33fcd990c354",
       "version_major": 2,
       "version_minor": 0
      },
      "text/plain": [
       "VBox()"
      ]
     },
     "metadata": {},
     "output_type": "display_data"
    },
    {
     "data": {
      "application/vnd.jupyter.widget-view+json": {
       "model_id": "",
       "version_major": 2,
       "version_minor": 0
      },
      "text/plain": [
       "FloatProgress(value=0.0, bar_style='info', description='Progress:', layout=Layout(height='25px', width='50%'),…"
      ]
     },
     "metadata": {},
     "output_type": "display_data"
    }
   ],
   "source": [
    "# %%local\n",
    "# %matplotlib inline\n",
    "\n",
    "# # plt.plot([1,2,3,4])\n",
    "# # plt.show()\n",
    "# import pandas as pd\n",
    "# import matplotlib\n",
    "# import matplotlib.pyplot as plt\n",
    "# import boto3\n",
    "\n",
    "# pd.set_option('display.max_columns', None)\n",
    "# pd.set_option('display.width', None) \n",
    "# pd.set_option('display.max_rows',None)\n",
    "\n",
    "\n",
    "# matplotlib.style.use('ggplot')\n",
    "# plt.rcParams[\"figure.figsize\"] = (10, 7)"
   ]
  },
  {
   "cell_type": "markdown",
   "id": "6703c123",
   "metadata": {},
   "source": [
    "Load Data to Spark"
   ]
  },
  {
   "cell_type": "code",
   "execution_count": 2,
   "id": "3b2335f0",
   "metadata": {
    "execution": {
     "iopub.execute_input": "2022-03-01T01:37:07.369092Z",
     "iopub.status.busy": "2022-03-01T01:37:07.368867Z",
     "iopub.status.idle": "2022-03-01T02:00:21.274701Z",
     "shell.execute_reply": "2022-03-01T02:00:21.274087Z",
     "shell.execute_reply.started": "2022-03-01T01:37:07.369068Z"
    },
    "tags": []
   },
   "outputs": [
    {
     "data": {
      "application/vnd.jupyter.widget-view+json": {
       "model_id": "3e02a4fc5cbf415199ee66b883ae0deb",
       "version_major": 2,
       "version_minor": 0
      },
      "text/plain": [
       "VBox()"
      ]
     },
     "metadata": {},
     "output_type": "display_data"
    },
    {
     "data": {
      "application/vnd.jupyter.widget-view+json": {
       "model_id": "",
       "version_major": 2,
       "version_minor": 0
      },
      "text/plain": [
       "FloatProgress(value=0.0, bar_style='info', description='Progress:', layout=Layout(height='25px', width='50%'),…"
      ]
     },
     "metadata": {},
     "output_type": "display_data"
    }
   ],
   "source": [
    "aq = spark.read.json(\n",
    "    's3://openaq-fetches/realtime/20[12][901]-[0-9][0-9]-[0-3][0-9]'\n",
    "    '/*.ndjson')"
   ]
  },
  {
   "cell_type": "code",
   "execution_count": 3,
   "id": "844524ae",
   "metadata": {
    "execution": {
     "iopub.execute_input": "2022-03-01T02:01:03.926303Z",
     "iopub.status.busy": "2022-03-01T02:01:03.926046Z",
     "iopub.status.idle": "2022-03-01T02:01:04.197773Z",
     "shell.execute_reply": "2022-03-01T02:01:04.197117Z",
     "shell.execute_reply.started": "2022-03-01T02:01:03.926278Z"
    },
    "tags": []
   },
   "outputs": [
    {
     "data": {
      "application/vnd.jupyter.widget-view+json": {
       "model_id": "b5bbc13fdb3642848f35ee98b43f412e",
       "version_major": 2,
       "version_minor": 0
      },
      "text/plain": [
       "VBox()"
      ]
     },
     "metadata": {},
     "output_type": "display_data"
    },
    {
     "data": {
      "application/vnd.jupyter.widget-view+json": {
       "model_id": "",
       "version_major": 2,
       "version_minor": 0
      },
      "text/plain": [
       "FloatProgress(value=0.0, bar_style='info', description='Progress:', layout=Layout(height='25px', width='50%'),…"
      ]
     },
     "metadata": {},
     "output_type": "display_data"
    },
    {
     "name": "stdout",
     "output_type": "stream",
     "text": [
      "root\n",
      " |-- _corrupt_record: string (nullable = true)\n",
      " |-- attribution: array (nullable = true)\n",
      " |    |-- element: struct (containsNull = true)\n",
      " |    |    |-- name: string (nullable = true)\n",
      " |    |    |-- url: string (nullable = true)\n",
      " |-- averagingPeriod: struct (nullable = true)\n",
      " |    |-- unit: string (nullable = true)\n",
      " |    |-- unitit: string (nullable = true)\n",
      " |    |-- value: double (nullable = true)\n",
      " |-- city: string (nullable = true)\n",
      " |-- coordinates: struct (nullable = true)\n",
      " |    |-- latitude: double (nullable = true)\n",
      " |    |-- longitude: double (nullable = true)\n",
      " |-- country: string (nullable = true)\n",
      " |-- date: struct (nullable = true)\n",
      " |    |-- local: string (nullable = true)\n",
      " |    |-- utc: string (nullable = true)\n",
      " |-- location: string (nullable = true)\n",
      " |-- mobile: boolean (nullable = true)\n",
      " |-- parameter: string (nullable = true)\n",
      " |-- sourType: string (nullable = true)\n",
      " |-- sourceName: string (nullable = true)\n",
      " |-- sourceType: string (nullable = true)\n",
      " |-- unit: string (nullable = true)\n",
      " |-- value: double (nullable = true)"
     ]
    }
   ],
   "source": [
    "aq.printSchema()"
   ]
  },
  {
   "cell_type": "code",
   "execution_count": 4,
   "id": "0b8248eb",
   "metadata": {
    "execution": {
     "iopub.execute_input": "2022-03-01T02:01:10.790257Z",
     "iopub.status.busy": "2022-03-01T02:01:10.790025Z",
     "iopub.status.idle": "2022-03-01T02:01:11.557932Z",
     "shell.execute_reply": "2022-03-01T02:01:11.557013Z",
     "shell.execute_reply.started": "2022-03-01T02:01:10.790231Z"
    },
    "tags": []
   },
   "outputs": [
    {
     "data": {
      "application/vnd.jupyter.widget-view+json": {
       "model_id": "a9b27fb9c111487186f904369c5adaa9",
       "version_major": 2,
       "version_minor": 0
      },
      "text/plain": [
       "VBox()"
      ]
     },
     "metadata": {},
     "output_type": "display_data"
    },
    {
     "data": {
      "application/vnd.jupyter.widget-view+json": {
       "model_id": "",
       "version_major": 2,
       "version_minor": 0
      },
      "text/plain": [
       "FloatProgress(value=0.0, bar_style='info', description='Progress:', layout=Layout(height='25px', width='50%'),…"
      ]
     },
     "metadata": {},
     "output_type": "display_data"
    }
   ],
   "source": [
    "aq.createOrReplaceTempView('aq')"
   ]
  },
  {
   "cell_type": "markdown",
   "id": "7159d4e6-5be3-4474-b5a6-92609e41a748",
   "metadata": {
    "execution": {
     "iopub.execute_input": "2022-02-28T03:55:30.684100Z",
     "iopub.status.busy": "2022-02-28T03:55:30.683920Z",
     "iopub.status.idle": "2022-02-28T03:55:30.733981Z",
     "shell.execute_reply": "2022-02-28T03:55:30.733450Z",
     "shell.execute_reply.started": "2022-02-28T03:55:30.684073Z"
    }
   },
   "source": [
    "## Setup temporary tables"
   ]
  },
  {
   "cell_type": "markdown",
   "id": "99bffbec-cd36-4d01-9e30-4e9ca959ae39",
   "metadata": {},
   "source": [
    "List all Countries, Cities  and their coordinates"
   ]
  },
  {
   "cell_type": "code",
   "execution_count": null,
   "id": "15cde428-743d-4dcb-abc8-93670399b211",
   "metadata": {
    "execution": {
     "iopub.execute_input": "2022-03-01T02:01:15.212905Z",
     "iopub.status.busy": "2022-03-01T02:01:15.212596Z",
     "iopub.status.idle": "2022-03-01T02:16:51.272460Z",
     "shell.execute_reply": "2022-03-01T02:16:51.271861Z",
     "shell.execute_reply.started": "2022-03-01T02:01:15.212871Z"
    },
    "tags": []
   },
   "outputs": [],
   "source": [
    "q = \"\"\"\n",
    "create table distinct_cities as\n",
    "select distinct country,\n",
    "    city, \n",
    "    coordinates.latitude as lat,\n",
    "    coordinates.longitude as long\n",
    "from aq \n",
    "\"\"\"\n",
    "spark.sql(q)"
   ]
  },
  {
   "cell_type": "code",
   "execution_count": null,
   "id": "5c9daa76-7f5e-47fa-ac71-4b2d4dca3f66",
   "metadata": {
    "execution": {
     "iopub.execute_input": "2022-03-01T02:16:51.273921Z",
     "iopub.status.busy": "2022-03-01T02:16:51.273654Z",
     "iopub.status.idle": "2022-03-01T02:16:52.550395Z",
     "shell.execute_reply": "2022-03-01T02:16:52.549668Z",
     "shell.execute_reply.started": "2022-03-01T02:16:51.273885Z"
    },
    "tags": []
   },
   "outputs": [],
   "source": [
    "spark.sql('select * from distinct_cities limit 10').show()"
   ]
  },
  {
   "cell_type": "markdown",
   "id": "7432ec1b-3842-4f57-a14d-5119b722fed3",
   "metadata": {},
   "source": [
    "List of all parameters"
   ]
  },
  {
   "cell_type": "code",
   "execution_count": null,
   "id": "6f92e23b-f9b3-42fc-aa4f-65eac7fa8e50",
   "metadata": {
    "execution": {
     "iopub.execute_input": "2022-03-01T02:16:52.551868Z",
     "iopub.status.busy": "2022-03-01T02:16:52.551689Z",
     "iopub.status.idle": "2022-03-01T02:31:32.736264Z",
     "shell.execute_reply": "2022-03-01T02:31:32.735673Z",
     "shell.execute_reply.started": "2022-03-01T02:16:52.551846Z"
    },
    "tags": []
   },
   "outputs": [],
   "source": [
    "q = \"\"\"\n",
    "create table distinct_params as\n",
    "select distinct parameter\n",
    "from aq \n",
    "\"\"\"\n",
    "spark.sql(q)"
   ]
  },
  {
   "cell_type": "code",
   "execution_count": null,
   "id": "a0c8bfca-4348-4d29-929a-ea17d6518f73",
   "metadata": {
    "execution": {
     "iopub.execute_input": "2022-03-01T02:31:32.737972Z",
     "iopub.status.busy": "2022-03-01T02:31:32.737711Z",
     "iopub.status.idle": "2022-03-01T02:31:33.505924Z",
     "shell.execute_reply": "2022-03-01T02:31:33.505095Z",
     "shell.execute_reply.started": "2022-03-01T02:31:32.737935Z"
    },
    "tags": []
   },
   "outputs": [],
   "source": [
    "spark.sql('select * from distinct_params limit 10').show()"
   ]
  },
  {
   "cell_type": "code",
   "execution_count": 12,
   "id": "31adbadd",
   "metadata": {},
   "outputs": [
    {
     "data": {
      "application/vnd.jupyter.widget-view+json": {
       "model_id": "b7361763400247cba5e0bf3a6d984551",
       "version_major": 2,
       "version_minor": 0
      },
      "text/plain": [
       "VBox()"
      ]
     },
     "metadata": {},
     "output_type": "display_data"
    },
    {
     "data": {
      "application/vnd.jupyter.widget-view+json": {
       "model_id": "",
       "version_major": 2,
       "version_minor": 0
      },
      "text/plain": [
       "FloatProgress(value=0.0, bar_style='info', description='Progress:', layout=Layout(height='25px', width='50%'),…"
      ]
     },
     "metadata": {},
     "output_type": "display_data"
    },
    {
     "name": "stdout",
     "output_type": "stream",
     "text": [
      "+---------------+--------------------+-------------------+--------------------+--------------------+-------+--------------------+--------------------+------+---------+--------+--------------------+----------+-----+-----+\n",
      "|_corrupt_record|         attribution|    averagingPeriod|                city|         coordinates|country|                date|            location|mobile|parameter|sourType|          sourceName|sourceType| unit|value|\n",
      "+---------------+--------------------+-------------------+--------------------+--------------------+-------+--------------------+--------------------+------+---------+--------+--------------------+----------+-----+-----+\n",
      "|           null|[{StateAir.net, h...| {hours, null, 1.0}|            Shanghai|     {31.21, 121.44}|     CN|{2019-01-28T11:00...|            Shanghai| false|     pm25|    null|            Shanghai|government|µg/m³| 51.0|\n",
      "|           null|[{StateAir.net, h...| {hours, null, 1.0}|            Shenyang|     {41.78, 123.42}|     CN|{2019-01-28T11:00...|            Shenyang| false|     pm25|    null|            Shenyang|government|µg/m³| 18.0|\n",
      "|           null|[{Department for ...|{hours, null, 24.0}|               Sandy|{52.132417, -0.30...|     GB|{2019-01-28T03:00...|      Sandy Roadside| false|     pm25|    null|               DEFRA|government|µg/m³|  5.0|\n",
      "|           null|[{Department for ...|{hours, null, 24.0}|    Stanford-le-Hope|{51.518167, 0.439...|     GB|{2019-01-28T03:00...|Stanford-le-Hope ...| false|     pm25|    null|               DEFRA|government|µg/m³|  3.0|\n",
      "|           null|[{Department for ...|{hours, null, 24.0}|              London|{51.54421, -0.175...|     GB|{2019-01-28T03:00...|     Camden Kerbside| false|     pm25|    null|               DEFRA|government|µg/m³|  3.0|\n",
      "|           null|[{Agaar.mn, http:...|               null|         Ulaanbaatar|{47.863943, 106.7...|     MN|{2019-01-28T11:00...|              Nisekh| false|     pm25|    null|            Agaar.mn|government|µg/m³|110.0|\n",
      "|           null|[{Environmental P...| {hours, null, 1.0}|   Central & Western|{22.285, 114.1444...|     HK|{2019-01-28T11:00...|     Central/Western| false|     pm25|    null|           Hong Kong|government|µg/m³| 22.9|\n",
      "|           null|[{Agaar.mn, http:...|               null|         Ulaanbaatar|{47.922495, 106.7...|     MN|{2019-01-28T11:00...|             Tolgoit| false|     pm25|    null|            Agaar.mn|government|µg/m³|171.0|\n",
      "|           null|[{US EPA AirNow, ...| {hours, null, 1.0}|        NEWFOUNDLAND|  {47.505, -52.7947}|     CA|{2019-01-27T22:00...|         Mount Pearl| false|     pm25|    null|              AirNow|government|µg/m³|  9.0|\n",
      "|           null|[{Department for ...|{hours, null, 24.0}|              London|{51.45258, 0.070766}|     GB|{2019-01-28T03:00...|       London Eltham| false|     pm25|    null|               DEFRA|government|µg/m³|  5.0|\n",
      "|           null|[{Environmental P...| {hours, null, 1.0}|             Eastern|{22.2827777777777...|     HK|{2019-01-28T11:00...|             Eastern| false|     pm25|    null|           Hong Kong|government|µg/m³| 16.3|\n",
      "|           null|[{US EPA AirNow, ...| {hours, null, 1.0}|        NEWFOUNDLAND|{47.098991, -55.1...|     CA|{2019-01-27T22:00...|     Marystown/Burin| false|     pm25|    null|              AirNow|government|µg/m³|  5.0|\n",
      "|           null|[{Agaar.mn, http:...|               null|         Ulaanbaatar|{47.929732, 106.8...|     MN|{2019-01-28T11:00...|                 MNB| false|     pm25|    null|            Agaar.mn|government|µg/m³|150.0|\n",
      "|           null|[{NSW - Office of...|{hours, null, 24.0}|         Sydney East|{-33.9333333, 151...|     AU|{2019-01-28T13:00...|            Randwick| false|     pm25|    null|Australia - New S...|government|µg/m³| 12.2|\n",
      "|           null|[{US EPA AirNow, ...| {hours, null, 1.0}|PRINCE EDWARD ISLAND| {46.2406, -63.1306}|     CA|{2019-01-27T22:00...|       CHARLOTTETOWN| false|     pm25|    null|              AirNow|government|µg/m³|  9.0|\n",
      "|           null|[{Department for ...|{hours, null, 24.0}|              London|{51.48879, -0.441...|     GB|{2019-01-28T03:00...|   London Harlington| false|     pm25|    null|               DEFRA|government|µg/m³|  5.0|\n",
      "|           null|[{Environmental P...| {hours, null, 1.0}|             Kowloon|{22.3133333333333...|     HK|{2019-01-28T11:00...|           Kwun Tong| false|     pm25|    null|           Hong Kong|government|µg/m³| 17.1|\n",
      "|           null|[{Agaar.mn, http:...|               null|         Ulaanbaatar|{47.913429, 106.9...|     MN|{2019-01-28T11:00...|             Amgalan| false|     pm25|    null|            Agaar.mn|government|µg/m³| 73.0|\n",
      "|           null|[{Department of E...| {hours, null, 1.0}|South East Queens...| {-27.4296, 153.158}|     AU|{2019-01-28T13:00...|              Wynnum| false|     pm25|    null|Australia - Queen...|government|µg/m³|  4.6|\n",
      "|           null|[{US EPA AirNow, ...| {hours, null, 1.0}|PRINCE EDWARD ISLAND| {46.4783, -63.9869}|     CA|{2019-01-27T22:00...|          WELLINGTON| false|     pm25|    null|              AirNow|government|µg/m³|  0.0|\n",
      "+---------------+--------------------+-------------------+--------------------+--------------------+-------+--------------------+--------------------+------+---------+--------+--------------------+----------+-----+-----+\n",
      "only showing top 20 rows"
     ]
    }
   ],
   "source": [
    "q = \"\"\"\n",
    "select * \n",
    "from (\n",
    "select * from aq \n",
    "where NOT (parameter = 'pm25' and (value < 0 or value >  1000))\n",
    ") a\n",
    "where parameter = 'pm25'\n",
    "limit 100\n",
    "\"\"\"\n",
    "spark.sql(q).show()"
   ]
  },
  {
   "cell_type": "code",
   "execution_count": 15,
   "id": "0c3acb07",
   "metadata": {},
   "outputs": [
    {
     "data": {
      "application/vnd.jupyter.widget-view+json": {
       "model_id": "24dc95a8c1a44e9bbb15fd46f3dabcf9",
       "version_major": 2,
       "version_minor": 0
      },
      "text/plain": [
       "VBox()"
      ]
     },
     "metadata": {},
     "output_type": "display_data"
    },
    {
     "data": {
      "application/vnd.jupyter.widget-view+json": {
       "model_id": "",
       "version_major": 2,
       "version_minor": 0
      },
      "text/plain": [
       "FloatProgress(value=0.0, bar_style='info', description='Progress:', layout=Layout(height='25px', width='50%'),…"
      ]
     },
     "metadata": {},
     "output_type": "display_data"
    },
    {
     "name": "stdout",
     "output_type": "stream",
     "text": [
      "DataFrame[]"
     ]
    }
   ],
   "source": [
    "spark.sql(\"drop table aq_per_day\")"
   ]
  },
  {
   "cell_type": "code",
   "execution_count": null,
   "id": "0b6b0d80-322c-4aa1-b104-926a4e5f6185",
   "metadata": {
    "execution": {
     "iopub.execute_input": "2022-03-01T02:31:33.508788Z",
     "iopub.status.busy": "2022-03-01T02:31:33.508541Z"
    },
    "tags": []
   },
   "outputs": [
    {
     "data": {
      "application/vnd.jupyter.widget-view+json": {
       "model_id": "e23097ca230e4eb09c4e269431629627",
       "version_major": 2,
       "version_minor": 0
      },
      "text/plain": [
       "VBox()"
      ]
     },
     "metadata": {},
     "output_type": "display_data"
    },
    {
     "data": {
      "application/vnd.jupyter.widget-view+json": {
       "model_id": "4c54041720ce41bb9201ff691fd5f3c1",
       "version_major": 2,
       "version_minor": 0
      },
      "text/plain": [
       "FloatProgress(value=0.0, bar_style='info', description='Progress:', layout=Layout(height='25px', width='50%'),…"
      ]
     },
     "metadata": {},
     "output_type": "display_data"
    }
   ],
   "source": [
    "q = \"\"\"\n",
    "create table aq_per_day as\n",
    "select to_date(to_timestamp(date.utc)) as date, \n",
    "            country,\n",
    "            city, \n",
    "            parameter, \n",
    "            unit as orig_unit,\n",
    "            'µg/m³' as unit_new,\n",
    "            mean(case when unit = 'ppm' then value * 1000 else value end) as mean_value,\n",
    "            percentile_approx(case when unit = 'ppm' then value * 1000 else value end, .5) as median_value,\n",
    "            min(case when unit = 'ppm' then value * 1000 else value end) as min_value,\n",
    "            max(case when unit = 'ppm' then value * 1000 else value end) as max_value,\n",
    "            stddev(case when unit = 'ppm' then value * 1000 else value end) as std_value\n",
    "from (\n",
    "        select * from aq \n",
    "        where NOT (parameter = 'pm25' and (value < 0 or value >  1000))        \n",
    "    ) as s\n",
    "where to_date(to_timestamp(date.utc)) is not null \n",
    "group by 1,2,3,4,5\n",
    "having mean(case when unit = 'ppm' then value * 1000 else value end) is not null\n",
    "\"\"\"\n",
    "spark.sql(q)"
   ]
  },
  {
   "cell_type": "code",
   "execution_count": 9,
   "id": "dd7ff241",
   "metadata": {
    "tags": []
   },
   "outputs": [
    {
     "data": {
      "application/vnd.jupyter.widget-view+json": {
       "model_id": "663033a6adb244e0b51f112c94195f2a",
       "version_major": 2,
       "version_minor": 0
      },
      "text/plain": [
       "VBox()"
      ]
     },
     "metadata": {},
     "output_type": "display_data"
    },
    {
     "data": {
      "application/vnd.jupyter.widget-view+json": {
       "model_id": "",
       "version_major": 2,
       "version_minor": 0
      },
      "text/plain": [
       "FloatProgress(value=0.0, bar_style='info', description='Progress:', layout=Layout(height='25px', width='50%'),…"
      ]
     },
     "metadata": {},
     "output_type": "display_data"
    },
    {
     "name": "stdout",
     "output_type": "stream",
     "text": [
      "+----------+-------+--------------------+---------+---------+--------+--------------------+------------+---------+---------+-------------------+\n",
      "|      date|country|                city|parameter|orig_unit|unit_new|          mean_value|median_value|min_value|max_value|          std_value|\n",
      "+----------+-------+--------------------+---------+---------+--------+--------------------+------------+---------+---------+-------------------+\n",
      "|2019-01-06|     US|Youngstown-Warren...|     pm25|    µg/m³|   ?g/m?|                -0.7|        -0.8|     -0.8|     -0.6|0.14142135623730956|\n",
      "|2019-01-13|     US|        Fayetteville|     pm25|    µg/m³|   ?g/m?|  -2.076923076923077|        -2.0|     -4.0|     -1.0| 1.1875421719907089|\n",
      "|2019-01-15|     US|Grand Rapids-Wyoming|     pm25|    µg/m³|   ?g/m?|                -1.8|        -1.8|     -1.8|     -1.8|               null|\n",
      "|2019-01-20|     IN|              Mumbai|     pm25|    µg/m³|   ?g/m?|              -999.0|      -999.0|   -999.0|   -999.0|                0.0|\n",
      "|2019-01-24|     US|            GALLATIN|     pm25|    µg/m³|   ?g/m?| -2.4285714285714284|        -3.0|     -4.0|     -1.0| 1.0163498575623617|\n",
      "|2019-01-27|     NO|               Hamar|     pm25|    µg/m³|   ?g/m?|           -0.129683|   -0.129683|-0.129683|-0.129683|               null|\n",
      "|2019-01-30|     NL|           Rotterdam|     pm25|    µg/m³|   ?g/m?|              -999.0|      -999.0|   -999.0|   -999.0|                0.0|\n",
      "|2019-02-01|     NL|             Zaandam|     pm25|    µg/m³|   ?g/m?|              -999.0|      -999.0|   -999.0|   -999.0|                0.0|\n",
      "|2019-02-07|     AU|           Gladstone|     pm25|    µg/m³|   ?g/m?|             -1111.0|     -1111.0|  -1111.0|  -1111.0|                0.0|\n",
      "|2019-02-24|     CA|PRINCE EDWARD ISLAND|     pm25|    µg/m³|   ?g/m?| -1.7647058823529411|        -1.0|     -4.0|     -1.0|  0.970142500145332|\n",
      "|2019-03-03|     US|            Cadillac|     pm25|    µg/m³|   ?g/m?|                -2.7|        -3.5|     -4.1|     -0.1| 1.3575187449376684|\n",
      "|2019-03-03|     US|   Manchester-Nashua|     pm25|    µg/m³|   ?g/m?|                -1.0|        -1.0|     -1.0|     -1.0|               null|\n",
      "|2019-03-08|     US|               BUTTE|     pm25|    µg/m³|   ?g/m?|                -1.0|        -1.0|     -1.0|     -1.0|                0.0|\n",
      "|2019-03-12|     US|             ROSEBUD|     pm25|    µg/m³|   ?g/m?|                -1.3|        -1.8|     -1.8|     -0.8| 0.7071067811865476|\n",
      "|2019-03-25|     US|            GALLATIN|     pm25|    µg/m³|   ?g/m?| -2.4444444444444446|        -2.0|     -4.0|     -1.0|  1.130388330520878|\n",
      "|2019-04-03|     US|Phoenix-Mesa-Scot...|     pm25|    µg/m³|   ?g/m?|-0.20000000000000004|        -0.2|     -0.3|     -0.1|0.09999999999999999|\n",
      "|2019-04-03|     US| Santa Rosa-Petaluma|     pm25|    µg/m³|   ?g/m?| -1.3333333333333333|        -1.0|     -2.0|     -1.0| 0.5773502691896257|\n",
      "|2019-04-09|     US|          MONTGOMERY|     pm25|    µg/m³|   ?g/m?|                -1.0|        -1.0|     -1.0|     -1.0|                0.0|\n",
      "|2019-04-13|     US|          SILVER BOW|     pm25|    µg/m³|   ?g/m?| -1.8500000000000003|        -2.3|     -3.8|     -0.2| 1.3034569421350288|\n",
      "|2019-04-21|     US|             Jackson|     pm25|    µg/m³|   ?g/m?|               -1.25|        -1.0|     -2.0|     -1.0|0.49999999999999994|\n",
      "+----------+-------+--------------------+---------+---------+--------+--------------------+------------+---------+---------+-------------------+"
     ]
    }
   ],
   "source": [
    "# spark.sql('select * from aq_per_day limit 10').show()\n",
    "# aq = spark.read.json('s3://bdcc2022/aq_per_day/*.json')\n",
    "# aq.createOrReplaceTempView('aq')\n",
    "\n",
    "spark.sql(\"select * from aq_per_day where parameter = 'pm25' limit 20\").show()"
   ]
  },
  {
   "cell_type": "code",
   "execution_count": 9,
   "id": "26473da3-ed8a-4a1f-9c95-1762f3c1ff24",
   "metadata": {
    "tags": []
   },
   "outputs": [
    {
     "data": {
      "application/vnd.jupyter.widget-view+json": {
       "model_id": "9ca5b7c637334b33ba81996c3699545f",
       "version_major": 2,
       "version_minor": 0
      },
      "text/plain": [
       "VBox()"
      ]
     },
     "metadata": {},
     "output_type": "display_data"
    },
    {
     "data": {
      "application/vnd.jupyter.widget-view+json": {
       "model_id": "",
       "version_major": 2,
       "version_minor": 0
      },
      "text/plain": [
       "FloatProgress(value=0.0, bar_style='info', description='Progress:', layout=Layout(height='25px', width='50%'),…"
      ]
     },
     "metadata": {},
     "output_type": "display_data"
    },
    {
     "name": "stdout",
     "output_type": "stream",
     "text": [
      "+--------+\n",
      "|count(1)|\n",
      "+--------+\n",
      "| 8304813|\n",
      "+--------+"
     ]
    }
   ],
   "source": [
    "spark.sql('select count(*) from aq_per_day').show()"
   ]
  },
  {
   "cell_type": "markdown",
   "id": "f287eb63-d2c4-4658-a422-bda2c1bdc6c7",
   "metadata": {
    "execution": {
     "iopub.status.busy": "2022-02-28T01:57:30.320140Z",
     "iopub.status.idle": "2022-02-28T01:57:30.320515Z",
     "shell.execute_reply": "2022-02-28T01:57:30.320330Z"
    },
    "tags": []
   },
   "source": [
    "To save processing time and EMR resources, tables are exported to csv in s3 and processing will be done in jojie"
   ]
  },
  {
   "cell_type": "code",
   "execution_count": 10,
   "id": "88ba28d2",
   "metadata": {
    "tags": []
   },
   "outputs": [
    {
     "data": {
      "application/vnd.jupyter.widget-view+json": {
       "model_id": "5c8f53a6c90d4e8c897df8c5bb2251cc",
       "version_major": 2,
       "version_minor": 0
      },
      "text/plain": [
       "VBox()"
      ]
     },
     "metadata": {},
     "output_type": "display_data"
    },
    {
     "data": {
      "application/vnd.jupyter.widget-view+json": {
       "model_id": "",
       "version_major": 2,
       "version_minor": 0
      },
      "text/plain": [
       "FloatProgress(value=0.0, bar_style='info', description='Progress:', layout=Layout(height='25px', width='50%'),…"
      ]
     },
     "metadata": {},
     "output_type": "display_data"
    }
   ],
   "source": [
    "(\n",
    "spark.sql('select * from aq_per_day').write.format(\"json\").mode(\"Overwrite\")\n",
    ".save(\"s3a://bdcc2022/aq_per_day\")\n",
    ")\n",
    "\n",
    "(\n",
    "spark.sql('select * from distinct_params').write.format(\"json\").option(\"header\",\"true\").mode(\"Overwrite\")\n",
    ".save(\"s3a://bdcc2022/distinct_params\")\n",
    ")\n",
    "\n",
    "(\n",
    "spark.sql('select * from distinct_cities').write.format(\"json\").option(\"header\",\"true\").mode(\"Overwrite\")\n",
    ".save(\"s3a://bdcc2022/distinct_cities\")\n",
    ")   "
   ]
  },
  {
   "cell_type": "code",
   "execution_count": null,
   "id": "20a964a2",
   "metadata": {},
   "outputs": [],
   "source": []
  }
 ],
 "metadata": {
  "kernelspec": {
   "display_name": "PySpark",
   "language": "",
   "name": "pysparkkernel"
  },
  "language_info": {
   "codemirror_mode": {
    "name": "python",
    "version": 3
   },
   "mimetype": "text/x-python",
   "name": "pyspark",
   "pygments_lexer": "python3"
  },
  "toc": {
   "base_numbering": 1,
   "nav_menu": {},
   "number_sections": true,
   "sideBar": true,
   "skip_h1_title": false,
   "title_cell": "Table of Contents",
   "title_sidebar": "Contents",
   "toc_cell": false,
   "toc_position": {},
   "toc_section_display": true,
   "toc_window_display": false
  }
 },
 "nbformat": 4,
 "nbformat_minor": 5
}
